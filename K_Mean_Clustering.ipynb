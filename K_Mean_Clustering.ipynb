{
  "nbformat": 4,
  "nbformat_minor": 0,
  "metadata": {
    "colab": {
      "name": "K-Mean_Clustering.ipynb",
      "provenance": [],
      "authorship_tag": "ABX9TyP3ePNHjEJUabT1i/YGstkL",
      "include_colab_link": true
    },
    "kernelspec": {
      "name": "python3",
      "display_name": "Python 3"
    },
    "language_info": {
      "name": "python"
    }
  },
  "cells": [
    {
      "cell_type": "markdown",
      "metadata": {
        "id": "view-in-github",
        "colab_type": "text"
      },
      "source": [
        "<a href=\"https://colab.research.google.com/github/DgBack/K_Mean_Clustering/blob/main/K_Mean_Clustering.ipynb\" target=\"_parent\"><img src=\"https://colab.research.google.com/assets/colab-badge.svg\" alt=\"Open In Colab\"/></a>"
      ]
    },
    {
      "cell_type": "code",
      "execution_count": 2,
      "metadata": {
        "id": "JSZCTSovDhkt"
      },
      "outputs": [],
      "source": [
        "# Số nhóm K\n",
        "K = 6\n",
        "# Tạo dữ liệu gồm 1500 điểm quây tụ lại với K nhóm ở trên\n",
        "import numpy as np\n",
        "from sklearn.datasets import make_blobs\n",
        "X,_ = make_blobs(n_samples=1500,\n",
        "               n_features=2,\n",
        "               centers=K,\n",
        "               cluster_std=0.5,\n",
        "               shuffle=True,\n",
        "               random_state=0)\n",
        "\n",
        "# Các hàm thành phần thực hiện giải thuật\n",
        "# 1. init center points\n",
        "def init_centers(X, k):\n",
        "    return X[np.random.choice(X.shape[0], k, replace=False)]\n",
        "\n",
        "# 2. grouping\n",
        "def group_data(X, centers):\n",
        "    y = np.zeros(X.shape[0])\n",
        "    for i in range(X.shape[0]):\n",
        "        d = X[i] - centers\n",
        "        d = np.linalg.norm(d, axis=1)\n",
        "        y[i] = np.argmin(d)\n",
        "\n",
        "    return y\n",
        "\n",
        "# 3. Update center points\n",
        "def update_centers(X, y, k):\n",
        "    centers = np.zeros((k, X.shape[1]))\n",
        "    for i in range(k):\n",
        "        X_i = X[y==i, :]\n",
        "        centers[i] = np.mean(X_i, axis = 0)\n",
        "    return centers\n",
        "\n",
        "# kmeans algorithm\n",
        "def kmeans(X, k):\n",
        "    centers = init_centers(X, k)\n",
        "    y = []\n",
        "    while True:\n",
        "        # save pre-loop groups\n",
        "        y_old = y\n",
        "        # grouping\n",
        "        y = group_data(X, centers)\n",
        "        # break while loop if groups are not changed\n",
        "        if np.array_equal(y, y_old):\n",
        "            break\n",
        "\n",
        "        #  update centers\n",
        "        centers = update_centers(X, y, k)\n",
        "    return (centers, y)"
      ]
    }
  ]
}